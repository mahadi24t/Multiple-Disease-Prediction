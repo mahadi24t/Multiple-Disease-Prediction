{
  "nbformat": 4,
  "nbformat_minor": 0,
  "metadata": {
    "colab": {
      "provenance": []
    },
    "kernelspec": {
      "name": "python3",
      "display_name": "Python 3"
    },
    "language_info": {
      "name": "python"
    }
  },
  "cells": [
    {
      "cell_type": "code",
      "execution_count": 88,
      "metadata": {
        "id": "bea1Qihuit75"
      },
      "outputs": [],
      "source": [
        "import numpy as np\n",
        "import pandas as pd\n",
        "from sklearn.model_selection import train_test_split\n",
        "from sklearn import svm\n",
        "from sklearn.metrics import accuracy_score"
      ]
    },
    {
      "cell_type": "code",
      "source": [
        "# loading the dengue dataset to a pandas DataFrame\n",
        "dengue_dataset = pd.read_csv('/content/dengue.csv') "
      ],
      "metadata": {
        "id": "bjnc1qsZjG-1"
      },
      "execution_count": 164,
      "outputs": []
    },
    {
      "cell_type": "code",
      "source": [
        "# printing the first 5 rows of the dataset\n",
        "dengue_dataset.head()"
      ],
      "metadata": {
        "colab": {
          "base_uri": "https://localhost:8080/",
          "height": 270
        },
        "id": "Lkh2NxgSjWhU",
        "outputId": "f8d06f90-02b9-4759-e681-50adb585bc7e"
      },
      "execution_count": 165,
      "outputs": [
        {
          "output_type": "execute_result",
          "data": {
            "text/plain": [
              "  dengue.p_i_d dengue.date_of_fever dengue.residence dengue.days  \\\n",
              "0         P012               13-Jan        Bangalore     10 days   \n",
              "1         P011               13-Feb        New Delhi      4 days   \n",
              "2         P010                9-Jan           Jamica      5 days   \n",
              "3         P009               12-Aug         Barbados   12 months   \n",
              "4         P008               12-Oct        St.Martin      3 days   \n",
              "\n",
              "   dengue.current_temp  dengue.wbc dengue.servere_headche  \\\n",
              "0                100.0         5.0                    yes   \n",
              "1                104.0         1.0                     no   \n",
              "2                104.0         5.0                    NaN   \n",
              "3                101.0         NaN                    yes   \n",
              "4                101.0         NaN                    yes   \n",
              "\n",
              "  dengue.pain_behind_the_eyes dengue.joint_muscle_aches  \\\n",
              "0                          no                        no   \n",
              "1                         yes                       yes   \n",
              "2                          no                        no   \n",
              "3                         yes                        no   \n",
              "4                          no                        no   \n",
              "\n",
              "  dengue.metallic_taste_in_the_mouth dengue.appetite_loss  \\\n",
              "0                                yes                  yes   \n",
              "1                                 no                   no   \n",
              "2                                yes                  yes   \n",
              "3                                 no                   no   \n",
              "4                                 no                   no   \n",
              "\n",
              "  dengue.addominal_pain dengue.nausea_vomiting dengue.diarrhoea  \\\n",
              "0                   yes                     no              yes   \n",
              "1                    no                     no               no   \n",
              "2                   yes                    yes               no   \n",
              "3                    no                     no               no   \n",
              "4                    no                    yes               no   \n",
              "\n",
              "   dengue.hemoglobin  dengue._hematocri  dengue.platelet dengue.dengue  \n",
              "0               15.0                NaN            140.0           yes  \n",
              "1                9.0               22.0             80.0            no  \n",
              "2                NaN                NaN            120.0           yes  \n",
              "3                NaN                NaN              NaN            no  \n",
              "4                NaN                NaN              NaN            no  "
            ],
            "text/html": [
              "\n",
              "  <div id=\"df-e268bf5c-b75e-4b19-bc70-50fe18ceb48d\">\n",
              "    <div class=\"colab-df-container\">\n",
              "      <div>\n",
              "<style scoped>\n",
              "    .dataframe tbody tr th:only-of-type {\n",
              "        vertical-align: middle;\n",
              "    }\n",
              "\n",
              "    .dataframe tbody tr th {\n",
              "        vertical-align: top;\n",
              "    }\n",
              "\n",
              "    .dataframe thead th {\n",
              "        text-align: right;\n",
              "    }\n",
              "</style>\n",
              "<table border=\"1\" class=\"dataframe\">\n",
              "  <thead>\n",
              "    <tr style=\"text-align: right;\">\n",
              "      <th></th>\n",
              "      <th>dengue.p_i_d</th>\n",
              "      <th>dengue.date_of_fever</th>\n",
              "      <th>dengue.residence</th>\n",
              "      <th>dengue.days</th>\n",
              "      <th>dengue.current_temp</th>\n",
              "      <th>dengue.wbc</th>\n",
              "      <th>dengue.servere_headche</th>\n",
              "      <th>dengue.pain_behind_the_eyes</th>\n",
              "      <th>dengue.joint_muscle_aches</th>\n",
              "      <th>dengue.metallic_taste_in_the_mouth</th>\n",
              "      <th>dengue.appetite_loss</th>\n",
              "      <th>dengue.addominal_pain</th>\n",
              "      <th>dengue.nausea_vomiting</th>\n",
              "      <th>dengue.diarrhoea</th>\n",
              "      <th>dengue.hemoglobin</th>\n",
              "      <th>dengue._hematocri</th>\n",
              "      <th>dengue.platelet</th>\n",
              "      <th>dengue.dengue</th>\n",
              "    </tr>\n",
              "  </thead>\n",
              "  <tbody>\n",
              "    <tr>\n",
              "      <th>0</th>\n",
              "      <td>P012</td>\n",
              "      <td>13-Jan</td>\n",
              "      <td>Bangalore</td>\n",
              "      <td>10 days</td>\n",
              "      <td>100.0</td>\n",
              "      <td>5.0</td>\n",
              "      <td>yes</td>\n",
              "      <td>no</td>\n",
              "      <td>no</td>\n",
              "      <td>yes</td>\n",
              "      <td>yes</td>\n",
              "      <td>yes</td>\n",
              "      <td>no</td>\n",
              "      <td>yes</td>\n",
              "      <td>15.0</td>\n",
              "      <td>NaN</td>\n",
              "      <td>140.0</td>\n",
              "      <td>yes</td>\n",
              "    </tr>\n",
              "    <tr>\n",
              "      <th>1</th>\n",
              "      <td>P011</td>\n",
              "      <td>13-Feb</td>\n",
              "      <td>New Delhi</td>\n",
              "      <td>4 days</td>\n",
              "      <td>104.0</td>\n",
              "      <td>1.0</td>\n",
              "      <td>no</td>\n",
              "      <td>yes</td>\n",
              "      <td>yes</td>\n",
              "      <td>no</td>\n",
              "      <td>no</td>\n",
              "      <td>no</td>\n",
              "      <td>no</td>\n",
              "      <td>no</td>\n",
              "      <td>9.0</td>\n",
              "      <td>22.0</td>\n",
              "      <td>80.0</td>\n",
              "      <td>no</td>\n",
              "    </tr>\n",
              "    <tr>\n",
              "      <th>2</th>\n",
              "      <td>P010</td>\n",
              "      <td>9-Jan</td>\n",
              "      <td>Jamica</td>\n",
              "      <td>5 days</td>\n",
              "      <td>104.0</td>\n",
              "      <td>5.0</td>\n",
              "      <td>NaN</td>\n",
              "      <td>no</td>\n",
              "      <td>no</td>\n",
              "      <td>yes</td>\n",
              "      <td>yes</td>\n",
              "      <td>yes</td>\n",
              "      <td>yes</td>\n",
              "      <td>no</td>\n",
              "      <td>NaN</td>\n",
              "      <td>NaN</td>\n",
              "      <td>120.0</td>\n",
              "      <td>yes</td>\n",
              "    </tr>\n",
              "    <tr>\n",
              "      <th>3</th>\n",
              "      <td>P009</td>\n",
              "      <td>12-Aug</td>\n",
              "      <td>Barbados</td>\n",
              "      <td>12 months</td>\n",
              "      <td>101.0</td>\n",
              "      <td>NaN</td>\n",
              "      <td>yes</td>\n",
              "      <td>yes</td>\n",
              "      <td>no</td>\n",
              "      <td>no</td>\n",
              "      <td>no</td>\n",
              "      <td>no</td>\n",
              "      <td>no</td>\n",
              "      <td>no</td>\n",
              "      <td>NaN</td>\n",
              "      <td>NaN</td>\n",
              "      <td>NaN</td>\n",
              "      <td>no</td>\n",
              "    </tr>\n",
              "    <tr>\n",
              "      <th>4</th>\n",
              "      <td>P008</td>\n",
              "      <td>12-Oct</td>\n",
              "      <td>St.Martin</td>\n",
              "      <td>3 days</td>\n",
              "      <td>101.0</td>\n",
              "      <td>NaN</td>\n",
              "      <td>yes</td>\n",
              "      <td>no</td>\n",
              "      <td>no</td>\n",
              "      <td>no</td>\n",
              "      <td>no</td>\n",
              "      <td>no</td>\n",
              "      <td>yes</td>\n",
              "      <td>no</td>\n",
              "      <td>NaN</td>\n",
              "      <td>NaN</td>\n",
              "      <td>NaN</td>\n",
              "      <td>no</td>\n",
              "    </tr>\n",
              "  </tbody>\n",
              "</table>\n",
              "</div>\n",
              "      <button class=\"colab-df-convert\" onclick=\"convertToInteractive('df-e268bf5c-b75e-4b19-bc70-50fe18ceb48d')\"\n",
              "              title=\"Convert this dataframe to an interactive table.\"\n",
              "              style=\"display:none;\">\n",
              "        \n",
              "  <svg xmlns=\"http://www.w3.org/2000/svg\" height=\"24px\"viewBox=\"0 0 24 24\"\n",
              "       width=\"24px\">\n",
              "    <path d=\"M0 0h24v24H0V0z\" fill=\"none\"/>\n",
              "    <path d=\"M18.56 5.44l.94 2.06.94-2.06 2.06-.94-2.06-.94-.94-2.06-.94 2.06-2.06.94zm-11 1L8.5 8.5l.94-2.06 2.06-.94-2.06-.94L8.5 2.5l-.94 2.06-2.06.94zm10 10l.94 2.06.94-2.06 2.06-.94-2.06-.94-.94-2.06-.94 2.06-2.06.94z\"/><path d=\"M17.41 7.96l-1.37-1.37c-.4-.4-.92-.59-1.43-.59-.52 0-1.04.2-1.43.59L10.3 9.45l-7.72 7.72c-.78.78-.78 2.05 0 2.83L4 21.41c.39.39.9.59 1.41.59.51 0 1.02-.2 1.41-.59l7.78-7.78 2.81-2.81c.8-.78.8-2.07 0-2.86zM5.41 20L4 18.59l7.72-7.72 1.47 1.35L5.41 20z\"/>\n",
              "  </svg>\n",
              "      </button>\n",
              "      \n",
              "  <style>\n",
              "    .colab-df-container {\n",
              "      display:flex;\n",
              "      flex-wrap:wrap;\n",
              "      gap: 12px;\n",
              "    }\n",
              "\n",
              "    .colab-df-convert {\n",
              "      background-color: #E8F0FE;\n",
              "      border: none;\n",
              "      border-radius: 50%;\n",
              "      cursor: pointer;\n",
              "      display: none;\n",
              "      fill: #1967D2;\n",
              "      height: 32px;\n",
              "      padding: 0 0 0 0;\n",
              "      width: 32px;\n",
              "    }\n",
              "\n",
              "    .colab-df-convert:hover {\n",
              "      background-color: #E2EBFA;\n",
              "      box-shadow: 0px 1px 2px rgba(60, 64, 67, 0.3), 0px 1px 3px 1px rgba(60, 64, 67, 0.15);\n",
              "      fill: #174EA6;\n",
              "    }\n",
              "\n",
              "    [theme=dark] .colab-df-convert {\n",
              "      background-color: #3B4455;\n",
              "      fill: #D2E3FC;\n",
              "    }\n",
              "\n",
              "    [theme=dark] .colab-df-convert:hover {\n",
              "      background-color: #434B5C;\n",
              "      box-shadow: 0px 1px 3px 1px rgba(0, 0, 0, 0.15);\n",
              "      filter: drop-shadow(0px 1px 2px rgba(0, 0, 0, 0.3));\n",
              "      fill: #FFFFFF;\n",
              "    }\n",
              "  </style>\n",
              "\n",
              "      <script>\n",
              "        const buttonEl =\n",
              "          document.querySelector('#df-e268bf5c-b75e-4b19-bc70-50fe18ceb48d button.colab-df-convert');\n",
              "        buttonEl.style.display =\n",
              "          google.colab.kernel.accessAllowed ? 'block' : 'none';\n",
              "\n",
              "        async function convertToInteractive(key) {\n",
              "          const element = document.querySelector('#df-e268bf5c-b75e-4b19-bc70-50fe18ceb48d');\n",
              "          const dataTable =\n",
              "            await google.colab.kernel.invokeFunction('convertToInteractive',\n",
              "                                                     [key], {});\n",
              "          if (!dataTable) return;\n",
              "\n",
              "          const docLinkHtml = 'Like what you see? Visit the ' +\n",
              "            '<a target=\"_blank\" href=https://colab.research.google.com/notebooks/data_table.ipynb>data table notebook</a>'\n",
              "            + ' to learn more about interactive tables.';\n",
              "          element.innerHTML = '';\n",
              "          dataTable['output_type'] = 'display_data';\n",
              "          await google.colab.output.renderOutput(dataTable, element);\n",
              "          const docLink = document.createElement('div');\n",
              "          docLink.innerHTML = docLinkHtml;\n",
              "          element.appendChild(docLink);\n",
              "        }\n",
              "      </script>\n",
              "    </div>\n",
              "  </div>\n",
              "  "
            ]
          },
          "metadata": {},
          "execution_count": 165
        }
      ]
    },
    {
      "cell_type": "code",
      "source": [
        "print(dengue_dataset.columns)"
      ],
      "metadata": {
        "colab": {
          "base_uri": "https://localhost:8080/"
        },
        "id": "DpfAbCGVkAi0",
        "outputId": "a689c672-4078-46ee-b431-de1f33c81281"
      },
      "execution_count": 166,
      "outputs": [
        {
          "output_type": "stream",
          "name": "stdout",
          "text": [
            "Index(['dengue.p_i_d', 'dengue.date_of_fever', 'dengue.residence',\n",
            "       'dengue.days', 'dengue.current_temp', 'dengue.wbc',\n",
            "       'dengue.servere_headche', 'dengue.pain_behind_the_eyes',\n",
            "       'dengue.joint_muscle_aches', 'dengue.metallic_taste_in_the_mouth',\n",
            "       'dengue.appetite_loss', 'dengue.addominal_pain',\n",
            "       'dengue.nausea_vomiting', 'dengue.diarrhoea', 'dengue.hemoglobin',\n",
            "       'dengue._hematocri', 'dengue.platelet', 'dengue.dengue'],\n",
            "      dtype='object')\n"
          ]
        }
      ]
    },
    {
      "cell_type": "code",
      "source": [
        "print(dengue_dataset.head())"
      ],
      "metadata": {
        "colab": {
          "base_uri": "https://localhost:8080/"
        },
        "id": "-vAfYL_vkN49",
        "outputId": "f10d7792-9605-4be8-ce4b-e939d95c5bc6"
      },
      "execution_count": 167,
      "outputs": [
        {
          "output_type": "stream",
          "name": "stdout",
          "text": [
            "  dengue.p_i_d dengue.date_of_fever dengue.residence dengue.days  \\\n",
            "0         P012               13-Jan        Bangalore     10 days   \n",
            "1         P011               13-Feb        New Delhi      4 days   \n",
            "2         P010                9-Jan           Jamica      5 days   \n",
            "3         P009               12-Aug         Barbados   12 months   \n",
            "4         P008               12-Oct        St.Martin      3 days   \n",
            "\n",
            "   dengue.current_temp  dengue.wbc dengue.servere_headche  \\\n",
            "0                100.0         5.0                    yes   \n",
            "1                104.0         1.0                     no   \n",
            "2                104.0         5.0                    NaN   \n",
            "3                101.0         NaN                    yes   \n",
            "4                101.0         NaN                    yes   \n",
            "\n",
            "  dengue.pain_behind_the_eyes dengue.joint_muscle_aches  \\\n",
            "0                          no                        no   \n",
            "1                         yes                       yes   \n",
            "2                          no                        no   \n",
            "3                         yes                        no   \n",
            "4                          no                        no   \n",
            "\n",
            "  dengue.metallic_taste_in_the_mouth dengue.appetite_loss  \\\n",
            "0                                yes                  yes   \n",
            "1                                 no                   no   \n",
            "2                                yes                  yes   \n",
            "3                                 no                   no   \n",
            "4                                 no                   no   \n",
            "\n",
            "  dengue.addominal_pain dengue.nausea_vomiting dengue.diarrhoea  \\\n",
            "0                   yes                     no              yes   \n",
            "1                    no                     no               no   \n",
            "2                   yes                    yes               no   \n",
            "3                    no                     no               no   \n",
            "4                    no                    yes               no   \n",
            "\n",
            "   dengue.hemoglobin  dengue._hematocri  dengue.platelet dengue.dengue  \n",
            "0               15.0                NaN            140.0           yes  \n",
            "1                9.0               22.0             80.0            no  \n",
            "2                NaN                NaN            120.0           yes  \n",
            "3                NaN                NaN              NaN            no  \n",
            "4                NaN                NaN              NaN            no  \n"
          ]
        }
      ]
    },
    {
      "cell_type": "code",
      "source": [
        "dengue_dataset.columns = [col.strip() for col in dengue_dataset.columns]\n",
        "selected_cols = ['dengue.p_i_d', 'dengue.date_of_fever', 'dengue.residence', 'dengue.days', 'dengue.current_temp', 'dengue.wbc', 'dengue.servere_headche', 'dengue.pain_behind_the_eyes', 'dengue.joint_muscle_aches', 'dengue.metallic_taste_in_the_mouth', 'dengue.appetite_loss', 'dengue.addominal_pain', 'dengue.nausea_vomiting', 'dengue.diarrhoea', 'dengue.hemoglobin', 'dengue._hematocri', 'dengue.platelet', 'dengue.dengue']\n",
        "df_selected = dengue_dataset[selected_cols]"
      ],
      "metadata": {
        "id": "84XInKaplO8o"
      },
      "execution_count": 95,
      "outputs": []
    },
    {
      "cell_type": "code",
      "source": [
        "# Data Preprocessing\n",
        "# Remove missing values\n",
        "df_clean = df_selected.dropna()"
      ],
      "metadata": {
        "id": "_OxeDSG7ldAf"
      },
      "execution_count": 96,
      "outputs": []
    },
    {
      "cell_type": "code",
      "source": [
        "# getting the statistical measures of the data\n",
        "dengue_dataset.describe()"
      ],
      "metadata": {
        "colab": {
          "base_uri": "https://localhost:8080/",
          "height": 300
        },
        "id": "hhxaIpaTlpX-",
        "outputId": "8b9398f0-f683-412b-f775-c6fa2b4a53b6"
      },
      "execution_count": 97,
      "outputs": [
        {
          "output_type": "execute_result",
          "data": {
            "text/plain": [
              "       dengue.current_temp  dengue.wbc  dengue.hemoglobin  dengue._hematocri  \\\n",
              "count           108.000000   45.000000          36.000000          27.000000   \n",
              "mean             94.208333    3.640000          10.650000          23.333333   \n",
              "std              28.579543    1.727636           2.599066           1.270978   \n",
              "min               0.000000    1.000000           8.600000          22.000000   \n",
              "25%             101.000000    2.200000           8.900000          22.000000   \n",
              "50%             103.250000    5.000000           9.500000          23.000000   \n",
              "75%             104.000000    5.000000          11.250000          25.000000   \n",
              "max             105.000000    5.000000          15.000000          25.000000   \n",
              "\n",
              "       dengue.platelet  \n",
              "count        54.000000  \n",
              "mean        105.000000  \n",
              "std          20.809105  \n",
              "min          80.000000  \n",
              "25%          90.000000  \n",
              "50%         100.000000  \n",
              "75%         120.000000  \n",
              "max         140.000000  "
            ],
            "text/html": [
              "\n",
              "  <div id=\"df-eace7e1f-75dd-4c9c-a31c-bb9ca3fe6135\">\n",
              "    <div class=\"colab-df-container\">\n",
              "      <div>\n",
              "<style scoped>\n",
              "    .dataframe tbody tr th:only-of-type {\n",
              "        vertical-align: middle;\n",
              "    }\n",
              "\n",
              "    .dataframe tbody tr th {\n",
              "        vertical-align: top;\n",
              "    }\n",
              "\n",
              "    .dataframe thead th {\n",
              "        text-align: right;\n",
              "    }\n",
              "</style>\n",
              "<table border=\"1\" class=\"dataframe\">\n",
              "  <thead>\n",
              "    <tr style=\"text-align: right;\">\n",
              "      <th></th>\n",
              "      <th>dengue.current_temp</th>\n",
              "      <th>dengue.wbc</th>\n",
              "      <th>dengue.hemoglobin</th>\n",
              "      <th>dengue._hematocri</th>\n",
              "      <th>dengue.platelet</th>\n",
              "    </tr>\n",
              "  </thead>\n",
              "  <tbody>\n",
              "    <tr>\n",
              "      <th>count</th>\n",
              "      <td>108.000000</td>\n",
              "      <td>45.000000</td>\n",
              "      <td>36.000000</td>\n",
              "      <td>27.000000</td>\n",
              "      <td>54.000000</td>\n",
              "    </tr>\n",
              "    <tr>\n",
              "      <th>mean</th>\n",
              "      <td>94.208333</td>\n",
              "      <td>3.640000</td>\n",
              "      <td>10.650000</td>\n",
              "      <td>23.333333</td>\n",
              "      <td>105.000000</td>\n",
              "    </tr>\n",
              "    <tr>\n",
              "      <th>std</th>\n",
              "      <td>28.579543</td>\n",
              "      <td>1.727636</td>\n",
              "      <td>2.599066</td>\n",
              "      <td>1.270978</td>\n",
              "      <td>20.809105</td>\n",
              "    </tr>\n",
              "    <tr>\n",
              "      <th>min</th>\n",
              "      <td>0.000000</td>\n",
              "      <td>1.000000</td>\n",
              "      <td>8.600000</td>\n",
              "      <td>22.000000</td>\n",
              "      <td>80.000000</td>\n",
              "    </tr>\n",
              "    <tr>\n",
              "      <th>25%</th>\n",
              "      <td>101.000000</td>\n",
              "      <td>2.200000</td>\n",
              "      <td>8.900000</td>\n",
              "      <td>22.000000</td>\n",
              "      <td>90.000000</td>\n",
              "    </tr>\n",
              "    <tr>\n",
              "      <th>50%</th>\n",
              "      <td>103.250000</td>\n",
              "      <td>5.000000</td>\n",
              "      <td>9.500000</td>\n",
              "      <td>23.000000</td>\n",
              "      <td>100.000000</td>\n",
              "    </tr>\n",
              "    <tr>\n",
              "      <th>75%</th>\n",
              "      <td>104.000000</td>\n",
              "      <td>5.000000</td>\n",
              "      <td>11.250000</td>\n",
              "      <td>25.000000</td>\n",
              "      <td>120.000000</td>\n",
              "    </tr>\n",
              "    <tr>\n",
              "      <th>max</th>\n",
              "      <td>105.000000</td>\n",
              "      <td>5.000000</td>\n",
              "      <td>15.000000</td>\n",
              "      <td>25.000000</td>\n",
              "      <td>140.000000</td>\n",
              "    </tr>\n",
              "  </tbody>\n",
              "</table>\n",
              "</div>\n",
              "      <button class=\"colab-df-convert\" onclick=\"convertToInteractive('df-eace7e1f-75dd-4c9c-a31c-bb9ca3fe6135')\"\n",
              "              title=\"Convert this dataframe to an interactive table.\"\n",
              "              style=\"display:none;\">\n",
              "        \n",
              "  <svg xmlns=\"http://www.w3.org/2000/svg\" height=\"24px\"viewBox=\"0 0 24 24\"\n",
              "       width=\"24px\">\n",
              "    <path d=\"M0 0h24v24H0V0z\" fill=\"none\"/>\n",
              "    <path d=\"M18.56 5.44l.94 2.06.94-2.06 2.06-.94-2.06-.94-.94-2.06-.94 2.06-2.06.94zm-11 1L8.5 8.5l.94-2.06 2.06-.94-2.06-.94L8.5 2.5l-.94 2.06-2.06.94zm10 10l.94 2.06.94-2.06 2.06-.94-2.06-.94-.94-2.06-.94 2.06-2.06.94z\"/><path d=\"M17.41 7.96l-1.37-1.37c-.4-.4-.92-.59-1.43-.59-.52 0-1.04.2-1.43.59L10.3 9.45l-7.72 7.72c-.78.78-.78 2.05 0 2.83L4 21.41c.39.39.9.59 1.41.59.51 0 1.02-.2 1.41-.59l7.78-7.78 2.81-2.81c.8-.78.8-2.07 0-2.86zM5.41 20L4 18.59l7.72-7.72 1.47 1.35L5.41 20z\"/>\n",
              "  </svg>\n",
              "      </button>\n",
              "      \n",
              "  <style>\n",
              "    .colab-df-container {\n",
              "      display:flex;\n",
              "      flex-wrap:wrap;\n",
              "      gap: 12px;\n",
              "    }\n",
              "\n",
              "    .colab-df-convert {\n",
              "      background-color: #E8F0FE;\n",
              "      border: none;\n",
              "      border-radius: 50%;\n",
              "      cursor: pointer;\n",
              "      display: none;\n",
              "      fill: #1967D2;\n",
              "      height: 32px;\n",
              "      padding: 0 0 0 0;\n",
              "      width: 32px;\n",
              "    }\n",
              "\n",
              "    .colab-df-convert:hover {\n",
              "      background-color: #E2EBFA;\n",
              "      box-shadow: 0px 1px 2px rgba(60, 64, 67, 0.3), 0px 1px 3px 1px rgba(60, 64, 67, 0.15);\n",
              "      fill: #174EA6;\n",
              "    }\n",
              "\n",
              "    [theme=dark] .colab-df-convert {\n",
              "      background-color: #3B4455;\n",
              "      fill: #D2E3FC;\n",
              "    }\n",
              "\n",
              "    [theme=dark] .colab-df-convert:hover {\n",
              "      background-color: #434B5C;\n",
              "      box-shadow: 0px 1px 3px 1px rgba(0, 0, 0, 0.15);\n",
              "      filter: drop-shadow(0px 1px 2px rgba(0, 0, 0, 0.3));\n",
              "      fill: #FFFFFF;\n",
              "    }\n",
              "  </style>\n",
              "\n",
              "      <script>\n",
              "        const buttonEl =\n",
              "          document.querySelector('#df-eace7e1f-75dd-4c9c-a31c-bb9ca3fe6135 button.colab-df-convert');\n",
              "        buttonEl.style.display =\n",
              "          google.colab.kernel.accessAllowed ? 'block' : 'none';\n",
              "\n",
              "        async function convertToInteractive(key) {\n",
              "          const element = document.querySelector('#df-eace7e1f-75dd-4c9c-a31c-bb9ca3fe6135');\n",
              "          const dataTable =\n",
              "            await google.colab.kernel.invokeFunction('convertToInteractive',\n",
              "                                                     [key], {});\n",
              "          if (!dataTable) return;\n",
              "\n",
              "          const docLinkHtml = 'Like what you see? Visit the ' +\n",
              "            '<a target=\"_blank\" href=https://colab.research.google.com/notebooks/data_table.ipynb>data table notebook</a>'\n",
              "            + ' to learn more about interactive tables.';\n",
              "          element.innerHTML = '';\n",
              "          dataTable['output_type'] = 'display_data';\n",
              "          await google.colab.output.renderOutput(dataTable, element);\n",
              "          const docLink = document.createElement('div');\n",
              "          docLink.innerHTML = docLinkHtml;\n",
              "          element.appendChild(docLink);\n",
              "        }\n",
              "      </script>\n",
              "    </div>\n",
              "  </div>\n",
              "  "
            ]
          },
          "metadata": {},
          "execution_count": 97
        }
      ]
    },
    {
      "cell_type": "code",
      "source": [
        "# Data Visualization\n",
        "# Correlation matrix\n",
        "# Import necessary libraries\n",
        "import pandas as pd\n",
        "import numpy as np\n",
        "import matplotlib.pyplot as plt\n",
        "import seaborn as sns\n",
        "corr_matrix = df_clean.corr()\n",
        "plt.figure(figsize=(12,10))\n",
        "sns.heatmap(corr_matrix, annot=True, cmap='coolwarm')"
      ],
      "metadata": {
        "colab": {
          "base_uri": "https://localhost:8080/",
          "height": 888
        },
        "id": "inN3IhMal1KU",
        "outputId": "b04c26f9-86a5-41f2-b4de-b50a2a493f10"
      },
      "execution_count": 98,
      "outputs": [
        {
          "output_type": "stream",
          "name": "stderr",
          "text": [
            "<ipython-input-98-316ad9befa4e>:8: FutureWarning: The default value of numeric_only in DataFrame.corr is deprecated. In a future version, it will default to False. Select only valid columns or specify the value of numeric_only to silence this warning.\n",
            "  corr_matrix = df_clean.corr()\n"
          ]
        },
        {
          "output_type": "execute_result",
          "data": {
            "text/plain": [
              "<Axes: >"
            ]
          },
          "metadata": {},
          "execution_count": 98
        },
        {
          "output_type": "display_data",
          "data": {
            "text/plain": [
              "<Figure size 1200x1000 with 2 Axes>"
            ],
            "image/png": "[encoded data removed]"
          },
          "metadata": {}
        }
      ]
    },
    {
      "cell_type": "code",
      "source": [
        "# Convert categorical variables to numerical using one-hot encoding\n",
        "df_transformed = pd.get_dummies(dengue_dataset, columns=['dengue.residence', 'dengue.dengue'])\n",
        "\n",
        "# Convert non-numerical variables to numerical using label encoding\n",
        "from sklearn.preprocessing import LabelEncoder\n",
        "\n",
        "le = LabelEncoder()\n",
        "\n",
        "for col in ['dengue.p_i_d', 'dengue.date_of_fever', 'dengue.days', 'dengue.servere_headche', 'dengue.pain_behind_the_eyes', 'dengue.joint_muscle_aches', 'dengue.metallic_taste_in_the_mouth', 'dengue.appetite_loss', 'dengue.addominal_pain', 'dengue.nausea_vomiting', 'dengue.diarrhoea']:\n",
        "    df_transformed[col] = le.fit_transform(df_transformed[col])\n",
        "\n",
        "# Check data types to ensure all columns are numerical\n",
        "print(df_transformed.dtypes)\n",
        "\n"
      ],
      "metadata": {
        "colab": {
          "base_uri": "https://localhost:8080/"
        },
        "id": "2zvntqCj2bfh",
        "outputId": "21c5d157-6f55-47fd-9ae5-48a0307d8f50"
      },
      "execution_count": 99,
      "outputs": [
        {
          "output_type": "stream",
          "name": "stdout",
          "text": [
            "dengue.p_i_d                            int64\n",
            "dengue.date_of_fever                    int64\n",
            "dengue.days                             int64\n",
            "dengue.current_temp                   float64\n",
            "dengue.wbc                            float64\n",
            "dengue.servere_headche                  int64\n",
            "dengue.pain_behind_the_eyes             int64\n",
            "dengue.joint_muscle_aches               int64\n",
            "dengue.metallic_taste_in_the_mouth      int64\n",
            "dengue.appetite_loss                    int64\n",
            "dengue.addominal_pain                   int64\n",
            "dengue.nausea_vomiting                  int64\n",
            "dengue.diarrhoea                        int64\n",
            "dengue.hemoglobin                     float64\n",
            "dengue._hematocri                     float64\n",
            "dengue.platelet                       float64\n",
            "dengue.residence_Bangalore              uint8\n",
            "dengue.residence_Barbados               uint8\n",
            "dengue.residence_Jamica                 uint8\n",
            "dengue.residence_Mumbai                 uint8\n",
            "dengue.residence_New Delhi              uint8\n",
            "dengue.residence_St.Martin              uint8\n",
            "dengue.residence_Thiland                uint8\n",
            "dengue.residence_US Vergin Islands      uint8\n",
            "dengue.residence_WestIndies             uint8\n",
            "dengue.dengue_no                        uint8\n",
            "dengue.dengue_yes                       uint8\n",
            "dtype: object\n"
          ]
        }
      ]
    },
    {
      "cell_type": "code",
      "source": [
        "dengue_dataset['dengue.dengue'].value_counts()"
      ],
      "metadata": {
        "colab": {
          "base_uri": "https://localhost:8080/"
        },
        "id": "reVQgMBVl7O-",
        "outputId": "089ae773-86f2-4fd9-bf0a-834f3c70f821"
      },
      "execution_count": 100,
      "outputs": [
        {
          "output_type": "execute_result",
          "data": {
            "text/plain": [
              "yes    72\n",
              "no     27\n",
              "Name: dengue.dengue, dtype: int64"
            ]
          },
          "metadata": {},
          "execution_count": 100
        }
      ]
    },
    {
      "cell_type": "code",
      "source": [
        "dengue_dataset.groupby('dengue.dengue').mean()"
      ],
      "metadata": {
        "colab": {
          "base_uri": "https://localhost:8080/",
          "height": 198
        },
        "id": "aEF5cru8mIui",
        "outputId": "5973b72c-fc29-47df-83f0-c7b1e7b09db8"
      },
      "execution_count": 101,
      "outputs": [
        {
          "output_type": "stream",
          "name": "stderr",
          "text": [
            "<ipython-input-101-1c4ff864f816>:1: FutureWarning: The default value of numeric_only in DataFrameGroupBy.mean is deprecated. In a future version, numeric_only will default to False. Either specify numeric_only or select only columns which should be valid for the function.\n",
            "  dengue_dataset.groupby('dengue.dengue').mean()\n"
          ]
        },
        {
          "output_type": "execute_result",
          "data": {
            "text/plain": [
              "               dengue.current_temp  dengue.wbc  dengue.hemoglobin  \\\n",
              "dengue.dengue                                                       \n",
              "no                        102.0000         1.0                9.0   \n",
              "yes                        90.1875         4.3               11.2   \n",
              "\n",
              "               dengue._hematocri  dengue.platelet  \n",
              "dengue.dengue                                      \n",
              "no                          22.0             80.0  \n",
              "yes                         24.0            110.0  "
            ],
            "text/html": [
              "\n",
              "  <div id=\"df-31e5bf7b-e351-4183-a9e0-f3559bfff502\">\n",
              "    <div class=\"colab-df-container\">\n",
              "      <div>\n",
              "<style scoped>\n",
              "    .dataframe tbody tr th:only-of-type {\n",
              "        vertical-align: middle;\n",
              "    }\n",
              "\n",
              "    .dataframe tbody tr th {\n",
              "        vertical-align: top;\n",
              "    }\n",
              "\n",
              "    .dataframe thead th {\n",
              "        text-align: right;\n",
              "    }\n",
              "</style>\n",
              "<table border=\"1\" class=\"dataframe\">\n",
              "  <thead>\n",
              "    <tr style=\"text-align: right;\">\n",
              "      <th></th>\n",
              "      <th>dengue.current_temp</th>\n",
              "      <th>dengue.wbc</th>\n",
              "      <th>dengue.hemoglobin</th>\n",
              "      <th>dengue._hematocri</th>\n",
              "      <th>dengue.platelet</th>\n",
              "    </tr>\n",
              "    <tr>\n",
              "      <th>dengue.dengue</th>\n",
              "      <th></th>\n",
              "      <th></th>\n",
              "      <th></th>\n",
              "      <th></th>\n",
              "      <th></th>\n",
              "    </tr>\n",
              "  </thead>\n",
              "  <tbody>\n",
              "    <tr>\n",
              "      <th>no</th>\n",
              "      <td>102.0000</td>\n",
              "      <td>1.0</td>\n",
              "      <td>9.0</td>\n",
              "      <td>22.0</td>\n",
              "      <td>80.0</td>\n",
              "    </tr>\n",
              "    <tr>\n",
              "      <th>yes</th>\n",
              "      <td>90.1875</td>\n",
              "      <td>4.3</td>\n",
              "      <td>11.2</td>\n",
              "      <td>24.0</td>\n",
              "      <td>110.0</td>\n",
              "    </tr>\n",
              "  </tbody>\n",
              "</table>\n",
              "</div>\n",
              "      <button class=\"colab-df-convert\" onclick=\"convertToInteractive('df-31e5bf7b-e351-4183-a9e0-f3559bfff502')\"\n",
              "              title=\"Convert this dataframe to an interactive table.\"\n",
              "              style=\"display:none;\">\n",
              "        \n",
              "  <svg xmlns=\"http://www.w3.org/2000/svg\" height=\"24px\"viewBox=\"0 0 24 24\"\n",
              "       width=\"24px\">\n",
              "    <path d=\"M0 0h24v24H0V0z\" fill=\"none\"/>\n",
              "    <path d=\"M18.56 5.44l.94 2.06.94-2.06 2.06-.94-2.06-.94-.94-2.06-.94 2.06-2.06.94zm-11 1L8.5 8.5l.94-2.06 2.06-.94-2.06-.94L8.5 2.5l-.94 2.06-2.06.94zm10 10l.94 2.06.94-2.06 2.06-.94-2.06-.94-.94-2.06-.94 2.06-2.06.94z\"/><path d=\"M17.41 7.96l-1.37-1.37c-.4-.4-.92-.59-1.43-.59-.52 0-1.04.2-1.43.59L10.3 9.45l-7.72 7.72c-.78.78-.78 2.05 0 2.83L4 21.41c.39.39.9.59 1.41.59.51 0 1.02-.2 1.41-.59l7.78-7.78 2.81-2.81c.8-.78.8-2.07 0-2.86zM5.41 20L4 18.59l7.72-7.72 1.47 1.35L5.41 20z\"/>\n",
              "  </svg>\n",
              "      </button>\n",
              "      \n",
              "  <style>\n",
              "    .colab-df-container {\n",
              "      display:flex;\n",
              "      flex-wrap:wrap;\n",
              "      gap: 12px;\n",
              "    }\n",
              "\n",
              "    .colab-df-convert {\n",
              "      background-color: #E8F0FE;\n",
              "      border: none;\n",
              "      border-radius: 50%;\n",
              "      cursor: pointer;\n",
              "      display: none;\n",
              "      fill: #1967D2;\n",
              "      height: 32px;\n",
              "      padding: 0 0 0 0;\n",
              "      width: 32px;\n",
              "    }\n",
              "\n",
              "    .colab-df-convert:hover {\n",
              "      background-color: #E2EBFA;\n",
              "      box-shadow: 0px 1px 2px rgba(60, 64, 67, 0.3), 0px 1px 3px 1px rgba(60, 64, 67, 0.15);\n",
              "      fill: #174EA6;\n",
              "    }\n",
              "\n",
              "    [theme=dark] .colab-df-convert {\n",
              "      background-color: #3B4455;\n",
              "      fill: #D2E3FC;\n",
              "    }\n",
              "\n",
              "    [theme=dark] .colab-df-convert:hover {\n",
              "      background-color: #434B5C;\n",
              "      box-shadow: 0px 1px 3px 1px rgba(0, 0, 0, 0.15);\n",
              "      filter: drop-shadow(0px 1px 2px rgba(0, 0, 0, 0.3));\n",
              "      fill: #FFFFFF;\n",
              "    }\n",
              "  </style>\n",
              "\n",
              "      <script>\n",
              "        const buttonEl =\n",
              "          document.querySelector('#df-31e5bf7b-e351-4183-a9e0-f3559bfff502 button.colab-df-convert');\n",
              "        buttonEl.style.display =\n",
              "          google.colab.kernel.accessAllowed ? 'block' : 'none';\n",
              "\n",
              "        async function convertToInteractive(key) {\n",
              "          const element = document.querySelector('#df-31e5bf7b-e351-4183-a9e0-f3559bfff502');\n",
              "          const dataTable =\n",
              "            await google.colab.kernel.invokeFunction('convertToInteractive',\n",
              "                                                     [key], {});\n",
              "          if (!dataTable) return;\n",
              "\n",
              "          const docLinkHtml = 'Like what you see? Visit the ' +\n",
              "            '<a target=\"_blank\" href=https://colab.research.google.com/notebooks/data_table.ipynb>data table notebook</a>'\n",
              "            + ' to learn more about interactive tables.';\n",
              "          element.innerHTML = '';\n",
              "          dataTable['output_type'] = 'display_data';\n",
              "          await google.colab.output.renderOutput(dataTable, element);\n",
              "          const docLink = document.createElement('div');\n",
              "          docLink.innerHTML = docLinkHtml;\n",
              "          element.appendChild(docLink);\n",
              "        }\n",
              "      </script>\n",
              "    </div>\n",
              "  </div>\n",
              "  "
            ]
          },
          "metadata": {},
          "execution_count": 101
        }
      ]
    },
    {
      "cell_type": "code",
      "source": [
        "# separating the data and labels\n",
        "X = dengue_dataset.drop(columns = 'dengue.dengue', axis=1)\n",
        "Y = dengue_dataset['dengue.dengue']"
      ],
      "metadata": {
        "id": "jDeRA9igmfIh"
      },
      "execution_count": 102,
      "outputs": []
    },
    {
      "cell_type": "code",
      "source": [
        "print(X)\n",
        "print(Y)"
      ],
      "metadata": {
        "colab": {
          "base_uri": "https://localhost:8080/"
        },
        "id": "tcV_sdsimtJ1",
        "outputId": "8e0541ff-8ad4-4679-c322-bfcc43d2a6bb"
      },
      "execution_count": 103,
      "outputs": [
        {
          "output_type": "stream",
          "name": "stdout",
          "text": [
            "    dengue.p_i_d dengue.date_of_fever   dengue.residence dengue.days  \\\n",
            "0           P012               13-Jan          Bangalore     10 days   \n",
            "1           P011               13-Feb          New Delhi      4 days   \n",
            "2           P010                9-Jan             Jamica      5 days   \n",
            "3           P009               12-Aug           Barbados   12 months   \n",
            "4           P008               12-Oct          St.Martin      3 days   \n",
            "..           ...                  ...                ...         ...   \n",
            "103         P005               12-Jun            Thiland     2 weeks   \n",
            "104         P004               10-Sep             Jamica        3--4   \n",
            "105         P003               12-Jun         WestIndies     2 weeks   \n",
            "106         P002               12-Feb            Thiland        3--4   \n",
            "107         P001                2-Jun  US Vergin Islands         NaN   \n",
            "\n",
            "     dengue.current_temp  dengue.wbc dengue.servere_headche  \\\n",
            "0                  100.0         5.0                    yes   \n",
            "1                  104.0         1.0                     no   \n",
            "2                  104.0         5.0                    NaN   \n",
            "3                  101.0         NaN                    yes   \n",
            "4                  101.0         NaN                    yes   \n",
            "..                   ...         ...                    ...   \n",
            "103                103.5         2.2                    yes   \n",
            "104                103.0         NaN                    yes   \n",
            "105                101.0         NaN                    yes   \n",
            "106                105.0         NaN                    NaN   \n",
            "107                  0.0         5.0                    yes   \n",
            "\n",
            "    dengue.pain_behind_the_eyes dengue.joint_muscle_aches  \\\n",
            "0                            no                        no   \n",
            "1                           yes                       yes   \n",
            "2                            no                        no   \n",
            "3                           yes                        no   \n",
            "4                            no                        no   \n",
            "..                          ...                       ...   \n",
            "103                         yes                        no   \n",
            "104                         yes                       yes   \n",
            "105                          no                       NaN   \n",
            "106                          no                       yes   \n",
            "107                          no                       yes   \n",
            "\n",
            "    dengue.metallic_taste_in_the_mouth dengue.appetite_loss  \\\n",
            "0                                  yes                  yes   \n",
            "1                                   no                   no   \n",
            "2                                  yes                  yes   \n",
            "3                                   no                   no   \n",
            "4                                   no                   no   \n",
            "..                                 ...                  ...   \n",
            "103                                yes                   no   \n",
            "104                                 no                   no   \n",
            "105                                 no                   no   \n",
            "106                                 no                  yes   \n",
            "107                                 no                   no   \n",
            "\n",
            "    dengue.addominal_pain dengue.nausea_vomiting dengue.diarrhoea  \\\n",
            "0                     yes                     no              yes   \n",
            "1                      no                     no               no   \n",
            "2                     yes                    yes               no   \n",
            "3                      no                     no               no   \n",
            "4                      no                    yes               no   \n",
            "..                    ...                    ...              ...   \n",
            "103                    no                     no               no   \n",
            "104                    no                     no               no   \n",
            "105                   yes                     no               no   \n",
            "106                    no                    yes               no   \n",
            "107                    no                    yes               no   \n",
            "\n",
            "     dengue.hemoglobin  dengue._hematocri  dengue.platelet  \n",
            "0                 15.0                NaN            140.0  \n",
            "1                  9.0               22.0             80.0  \n",
            "2                  NaN                NaN            120.0  \n",
            "3                  NaN                NaN              NaN  \n",
            "4                  NaN                NaN              NaN  \n",
            "..                 ...                ...              ...  \n",
            "103               10.0               25.0            110.0  \n",
            "104                NaN                NaN              NaN  \n",
            "105                NaN                NaN              NaN  \n",
            "106                NaN                NaN              NaN  \n",
            "107                8.6               23.0             90.0  \n",
            "\n",
            "[108 rows x 17 columns]\n",
            "0      yes\n",
            "1       no\n",
            "2      yes\n",
            "3       no\n",
            "4       no\n",
            "      ... \n",
            "103    yes\n",
            "104    NaN\n",
            "105    yes\n",
            "106    yes\n",
            "107    yes\n",
            "Name: dengue.dengue, Length: 108, dtype: object\n"
          ]
        }
      ]
    },
    {
      "cell_type": "code",
      "source": [
        "sns.pairplot(df_clean, hue='dengue.dengue', diag_kind='hist')"
      ],
      "metadata": {
        "colab": {
          "base_uri": "https://localhost:8080/",
          "height": 1000
        },
        "id": "8op2GV6amxG8",
        "outputId": "e7bfd5e3-9f65-48a7-b037-bd1ff84c6439"
      },
      "execution_count": 104,
      "outputs": [
        {
          "output_type": "execute_result",
          "data": {
            "text/plain": [
              "<seaborn.axisgrid.PairGrid at 0x7f1cce7b49a0>"
            ]
          },
          "metadata": {},
          "execution_count": 104
        },
        {
          "output_type": "display_data",
          "data": {
            "text/plain": [
              "<Figure size 1369.99x1250 with 30 Axes>"
            ],
            "image/png": "[encoded data removed]"
          },
          "metadata": {}
        }
      ]
    },
    {
      "cell_type": "code",
      "source": [
        "from sklearn.ensemble import RandomForestClassifier\n",
        "from sklearn.datasets import make_classification\n",
        "\n",
        "# Generate a random dataset for demonstration\n",
        "X, y = make_classification(n_samples=1000, n_features=10, random_state=42)\n",
        "\n",
        "# Split the dataset into training and testing sets\n",
        "X_train, X_test, y_train, y_test = train_test_split(X, y, test_size=0.2, random_state=42)\n",
        "\n",
        "# Define the random forest classifier with some hyperparameters\n",
        "rf = RandomForestClassifier(n_estimators=100, max_depth=10, random_state=42)\n",
        "\n",
        "# Train the classifier on the training data\n",
        "rf.fit(X_train, y_train)\n",
        "\n",
        "# Use the trained classifier to make predictions on the testing data\n",
        "y_pred = rf.predict(X_test)\n",
        "\n",
        "# Evaluate the performance of the classifier\n",
        "accuracy = accuracy_score(y_test, y_pred)\n",
        "print(\"Accuracy:\", accuracy)\n",
        "\n",
        "\n"
      ],
      "metadata": {
        "colab": {
          "base_uri": "https://localhost:8080/"
        },
        "id": "d1jC4eVt7zvh",
        "outputId": "9609258b-f20b-4b95-9892-c4d817f35b58"
      },
      "execution_count": 156,
      "outputs": [
        {
          "output_type": "stream",
          "name": "stdout",
          "text": [
            "Accuracy: 0.885\n"
          ]
        }
      ]
    },
    {
      "cell_type": "code",
      "source": [],
      "metadata": {
        "id": "_XbSNzcK8KI-"
      },
      "execution_count": 115,
      "outputs": []
    },
    {
      "cell_type": "code",
      "source": [
        "# Define the input data\n",
        "input_data = (25, 1, 25.5, 29.5, 27.5, 25.5, 78, 79, 77, 1)\n",
        "\n",
        "# Convert the input data to a numpy array\n",
        "input_data_as_numpy_array = np.asarray(input_data)\n",
        "\n",
        "# Reshape the array as we are predicting for one instance\n",
        "input_data_reshaped = input_data_as_numpy_array.reshape(1, -1)\n",
        "\n",
        "# Make the prediction using the trained model\n",
        "prediction = rf.predict(input_data_reshaped)\n",
        "\n",
        "# Print the prediction\n",
        "if (prediction[0] == 0):\n",
        "    print('The person does not have dengue fever')\n",
        "else:\n",
        "    print('The person has dengue fever')\n"
      ],
      "metadata": {
        "colab": {
          "base_uri": "https://localhost:8080/"
        },
        "id": "7rU1wOOb8Np3",
        "outputId": "9efc3a44-64bf-4507-fe90-34673fc2ec93"
      },
      "execution_count": 157,
      "outputs": [
        {
          "output_type": "stream",
          "name": "stdout",
          "text": [
            "The person has dengue fever\n"
          ]
        }
      ]
    },
    {
      "cell_type": "code",
      "source": [
        "rf.n_features_in_"
      ],
      "metadata": {
        "colab": {
          "base_uri": "https://localhost:8080/"
        },
        "id": "KvH_6qpfAoGw",
        "outputId": "31012fed-7ca5-4a20-9bfc-cc7697eac619"
      },
      "execution_count": 150,
      "outputs": [
        {
          "output_type": "execute_result",
          "data": {
            "text/plain": [
              "10"
            ]
          },
          "metadata": {},
          "execution_count": 150
        }
      ]
    },
    {
      "cell_type": "code",
      "source": [
        "# Define the input data\n",
        "input_data = (25, 0, 36.5, 36.4, 36.5, 36.4, 92, 90, 98, 0)\n",
        "\n",
        "# Convert the input data to a numpy array\n",
        "input_data_as_numpy_array = np.asarray(input_data)\n",
        "\n",
        "# Reshape the array as we are predicting for one instance\n",
        "input_data_reshaped = input_data_as_numpy_array.reshape(1, -1)\n",
        "\n",
        "# Make the prediction using the trained model\n",
        "prediction = rf.predict(input_data_reshaped)\n",
        "\n",
        "# Print the prediction\n",
        "if (prediction[0] == 1):\n",
        "    print('The person does not have dengue fever')\n",
        "else:\n",
        "    print('The person has dengue fever')\n"
      ],
      "metadata": {
        "colab": {
          "base_uri": "https://localhost:8080/"
        },
        "id": "DLsBMChXCtCm",
        "outputId": "4f010ba8-0d1c-44a1-d34f-00926f988bd7"
      },
      "execution_count": 159,
      "outputs": [
        {
          "output_type": "stream",
          "name": "stdout",
          "text": [
            "The person does not have dengue fever\n"
          ]
        }
      ]
    }
  ]
}